{
 "cells": [
  {
   "cell_type": "markdown",
   "metadata": {},
   "source": [
    "# Overview\n",
    "\n",
    "We are proposing to compete in the Kaggle competition setup by Rossman Stores to predict store sales for the next 6 weeks of business from previous business data.. All the information on the dataset is  \\textcolor{blue}{\\href{https://www.kaggle.com/c/rossmann-store-sales/data}{here}}. There's information about competitors, daily sales grosses, etc. \n",
    "\n",
    "## Code Location\n",
    "Our exploratory code is found \\textcolor{blue}{\\href{https://github.com/meissnereric/rossman_predictor}{on Eric's github}.}\n",
    "\n",
    "## Descriptive Statistics and Discussion"
   ]
  },
  {
   "cell_type": "code",
   "execution_count": 1,
   "metadata": {
    "collapsed": false
   },
   "outputs": [
    {
     "data": {
      "text/plain": [
       "u'/home/eric/dev/projects/data_science/rossman_predictor'"
      ]
     },
     "execution_count": 1,
     "metadata": {},
     "output_type": "execute_result"
    }
   ],
   "source": [
    "import numpy as np\n",
    "import pandas as pd\n",
    "import matplotlib.pyplot as plt\n",
    "%matplotlib inline\n",
    "%pwd"
   ]
  },
  {
   "cell_type": "raw",
   "metadata": {},
   "source": [
    "Our data came in three major files: train, test, and store. Training has the training data including daily sales and customers over a period of ~2 years (~1 million data points). , while test data has a period of 6 weeks for particular stores (not all of them, notably). Store has metadata about each store, which presumably affects the sales of a the stores. \n",
    "\n",
    "We first merge the store and training data together for ease of analysis, and display general information.\n",
    "\n",
    "We also clean the StateHoliday field for string/int happiness. "
   ]
  },
  {
   "cell_type": "code",
   "execution_count": 2,
   "metadata": {
    "collapsed": false
   },
   "outputs": [
    {
     "name": "stderr",
     "output_type": "stream",
     "text": [
      "/usr/local/lib/python2.7/dist-packages/pandas/io/parsers.py:1164: DtypeWarning: Columns (7) have mixed types. Specify dtype option on import or set low_memory=False.\n",
      "  data = self._reader.read(nrows)\n",
      "/usr/local/lib/python2.7/dist-packages/ipykernel/__main__.py:9: SettingWithCopyWarning: \n",
      "A value is trying to be set on a copy of a slice from a DataFrame\n",
      "\n",
      "See the the caveats in the documentation: http://pandas.pydata.org/pandas-docs/stable/indexing.html#indexing-view-versus-copy\n"
     ]
    }
   ],
   "source": [
    "#Partial code taken from (https://www.kaggle.com/mmourafiq/rossmann-store-sales/data-viz/notebook): \n",
    "\n",
    "train = pd.read_csv('data/train.csv')\n",
    "#print(train[:5])\n",
    "store = pd.read_csv('data/store.csv')\n",
    "#print(store[:5])\n",
    "all_data = pd.merge(train, store, on='Store', how='left')\n",
    "test = pd.read_csv('data/test.csv')\n",
    "all_data['StateHoliday'][all_data['StateHoliday'] == 0 ] = '0'"
   ]
  },
  {
   "cell_type": "markdown",
   "metadata": {},
   "source": [
    "Basic stats of the data. Notice particularly the standard deviation is high for both sales and customers, ipmlyign the data is highly variable and reassuring us that a predictor is necessary."
   ]
  },
  {
   "cell_type": "markdown",
   "metadata": {},
   "source": [
    "Unsurprisingly, a state holiday strongly affects sales. "
   ]
  },
  {
   "cell_type": "code",
   "execution_count": 3,
   "metadata": {
    "collapsed": false
   },
   "outputs": [
    {
     "name": "stdout",
     "output_type": "stream",
     "text": [
      "          Id  Store  DayOfWeek        Date  Open  Promo StateHoliday  \\\n",
      "0          1      1          4  2015-09-17     1      1            0   \n",
      "1          2      3          4  2015-09-17     1      1            0   \n",
      "2          3      7          4  2015-09-17     1      1            0   \n",
      "3          4      8          4  2015-09-17     1      1            0   \n",
      "4          5      9          4  2015-09-17     1      1            0   \n",
      "5          6     10          4  2015-09-17     1      1            0   \n",
      "6          7     11          4  2015-09-17     1      1            0   \n",
      "7          8     12          4  2015-09-17     1      1            0   \n",
      "8          9     13          4  2015-09-17     1      1            0   \n",
      "9         10     14          4  2015-09-17     1      1            0   \n",
      "10        11     15          4  2015-09-17     1      1            0   \n",
      "11        12     16          4  2015-09-17     1      1            0   \n",
      "12        13     19          4  2015-09-17     1      1            0   \n",
      "13        14     20          4  2015-09-17     1      1            0   \n",
      "14        15     21          4  2015-09-17     1      1            0   \n",
      "15        16     22          4  2015-09-17     1      1            0   \n",
      "16        17     23          4  2015-09-17     1      1            0   \n",
      "17        18     24          4  2015-09-17     1      1            0   \n",
      "18        19     25          4  2015-09-17     1      1            0   \n",
      "19        20     27          4  2015-09-17     1      1            0   \n",
      "20        21     29          4  2015-09-17     1      1            0   \n",
      "21        22     30          4  2015-09-17     1      1            0   \n",
      "22        23     31          4  2015-09-17     1      1            0   \n",
      "23        24     32          4  2015-09-17     1      1            0   \n",
      "24        25     33          4  2015-09-17     1      1            0   \n",
      "25        26     35          4  2015-09-17     1      1            0   \n",
      "26        27     36          4  2015-09-17     1      1            0   \n",
      "27        28     38          4  2015-09-17     1      1            0   \n",
      "28        29     39          4  2015-09-17     1      1            0   \n",
      "29        30     40          4  2015-09-17     1      1            0   \n",
      "...      ...    ...        ...         ...   ...    ...          ...   \n",
      "41058  41059   1077          6  2015-08-01     1      0            0   \n",
      "41059  41060   1078          6  2015-08-01     1      0            0   \n",
      "41060  41061   1079          6  2015-08-01     1      0            0   \n",
      "41061  41062   1080          6  2015-08-01     1      0            0   \n",
      "41062  41063   1083          6  2015-08-01     1      0            0   \n",
      "41063  41064   1084          6  2015-08-01     1      0            0   \n",
      "41064  41065   1086          6  2015-08-01     1      0            0   \n",
      "41065  41066   1087          6  2015-08-01     1      0            0   \n",
      "41066  41067   1088          6  2015-08-01     1      0            0   \n",
      "41067  41068   1089          6  2015-08-01     1      0            0   \n",
      "41068  41069   1091          6  2015-08-01     1      0            0   \n",
      "41069  41070   1092          6  2015-08-01     1      0            0   \n",
      "41070  41071   1094          6  2015-08-01     1      0            0   \n",
      "41071  41072   1096          6  2015-08-01     1      0            0   \n",
      "41072  41073   1097          6  2015-08-01     1      0            0   \n",
      "41073  41074   1099          6  2015-08-01     1      0            0   \n",
      "41074  41075   1100          6  2015-08-01     1      0            0   \n",
      "41075  41076   1101          6  2015-08-01     1      0            0   \n",
      "41076  41077   1102          6  2015-08-01     1      0            0   \n",
      "41077  41078   1103          6  2015-08-01     1      0            0   \n",
      "41078  41079   1104          6  2015-08-01     1      0            0   \n",
      "41079  41080   1105          6  2015-08-01     1      0            0   \n",
      "41080  41081   1106          6  2015-08-01     1      0            0   \n",
      "41081  41082   1107          6  2015-08-01     1      0            0   \n",
      "41082  41083   1109          6  2015-08-01     1      0            0   \n",
      "41083  41084   1111          6  2015-08-01     1      0            0   \n",
      "41084  41085   1112          6  2015-08-01     1      0            0   \n",
      "41085  41086   1113          6  2015-08-01     1      0            0   \n",
      "41086  41087   1114          6  2015-08-01     1      0            0   \n",
      "41087  41088   1115          6  2015-08-01     1      0            0   \n",
      "\n",
      "       SchoolHoliday  \n",
      "0                  0  \n",
      "1                  0  \n",
      "2                  0  \n",
      "3                  0  \n",
      "4                  0  \n",
      "5                  0  \n",
      "6                  0  \n",
      "7                  0  \n",
      "8                  0  \n",
      "9                  0  \n",
      "10                 0  \n",
      "11                 0  \n",
      "12                 0  \n",
      "13                 0  \n",
      "14                 0  \n",
      "15                 0  \n",
      "16                 0  \n",
      "17                 0  \n",
      "18                 0  \n",
      "19                 0  \n",
      "20                 0  \n",
      "21                 0  \n",
      "22                 0  \n",
      "23                 0  \n",
      "24                 0  \n",
      "25                 0  \n",
      "26                 0  \n",
      "27                 0  \n",
      "28                 0  \n",
      "29                 0  \n",
      "...              ...  \n",
      "41058              0  \n",
      "41059              0  \n",
      "41060              1  \n",
      "41061              0  \n",
      "41062              1  \n",
      "41063              1  \n",
      "41064              1  \n",
      "41065              1  \n",
      "41066              0  \n",
      "41067              0  \n",
      "41068              0  \n",
      "41069              0  \n",
      "41070              0  \n",
      "41071              0  \n",
      "41072              0  \n",
      "41073              0  \n",
      "41074              0  \n",
      "41075              0  \n",
      "41076              0  \n",
      "41077              1  \n",
      "41078              0  \n",
      "41079              0  \n",
      "41080              0  \n",
      "41081              0  \n",
      "41082              0  \n",
      "41083              0  \n",
      "41084              0  \n",
      "41085              0  \n",
      "41086              0  \n",
      "41087              1  \n",
      "\n",
      "[41088 rows x 8 columns]\n"
     ]
    }
   ],
   "source": [
    "print test"
   ]
  },
  {
   "cell_type": "code",
   "execution_count": 4,
   "metadata": {
    "collapsed": false
   },
   "outputs": [
    {
     "data": {
      "text/plain": [
       "<matplotlib.axes._subplots.AxesSubplot at 0x7f906d08ab10>"
      ]
     },
     "execution_count": 4,
     "metadata": {},
     "output_type": "execute_result"
    },
    {
     "data": {
      "image/png": "[encoded data removed]",
      "text/plain": [
       "<matplotlib.figure.Figure at 0x7f906d08a6d0>"
      ]
     },
     "metadata": {},
     "output_type": "display_data"
    }
   ],
   "source": [
    "avg_stateholiday = all_data[['Sales', 'Customers', 'StateHoliday']].groupby('StateHoliday').mean()\n",
    "avg_stateholiday.plot(kind='bar')"
   ]
  },
  {
   "cell_type": "markdown",
   "metadata": {},
   "source": [
    "Notably, having a promotion running for a particular day increases sales by quite a large amount, while not increasing customers by nearly the same rate. This implies people are spending more during those days, instead of having simply higher rates of customers."
   ]
  },
  {
   "cell_type": "code",
   "execution_count": 5,
   "metadata": {
    "collapsed": false
   },
   "outputs": [
    {
     "data": {
      "text/plain": [
       "<matplotlib.axes._subplots.AxesSubplot at 0x7f906cff06d0>"
      ]
     },
     "execution_count": 5,
     "metadata": {},
     "output_type": "execute_result"
    },
    {
     "data": {
      "image/png": "[encoded data removed]",
      "text/plain": [
       "<matplotlib.figure.Figure at 0x7f906d009490>"
      ]
     },
     "metadata": {},
     "output_type": "display_data"
    }
   ],
   "source": [
    "avg_promotion = all_data[['Sales', 'Customers', 'Promo']].groupby('Promo').mean()\n",
    "avg_promotion.plot(kind='bar')"
   ]
  },
  {
   "cell_type": "markdown",
   "metadata": {},
   "source": [
    "Competition distances are clustered around having close competitors, and in general it doesn't appear to affect sales strongly. "
   ]
  },
  {
   "cell_type": "code",
   "execution_count": 6,
   "metadata": {
    "collapsed": false
   },
   "outputs": [
    {
     "data": {
      "text/plain": [
       "array([[<matplotlib.axes._subplots.AxesSubplot object at 0x7f906cebcd50>]], dtype=object)"
      ]
     },
     "execution_count": 6,
     "metadata": {},
     "output_type": "execute_result"
    },
    {
     "data": {
      "image/png": "[encoded data removed]",
      "text/plain": [
       "<matplotlib.figure.Figure at 0x7f906cf87710>"
      ]
     },
     "metadata": {},
     "output_type": "display_data"
    }
   ],
   "source": [
    "all_data.hist('CompetitionDistance')"
   ]
  },
  {
   "cell_type": "code",
   "execution_count": 7,
   "metadata": {
    "collapsed": false
   },
   "outputs": [
    {
     "data": {
      "text/plain": [
       "<matplotlib.axes._subplots.AxesSubplot at 0x7f906ce07a10>"
      ]
     },
     "execution_count": 7,
     "metadata": {},
     "output_type": "execute_result"
    },
    {
     "data": {
      "image/png": "[encoded data removed]",
      "text/plain": [
       "<matplotlib.figure.Figure at 0x7f906ce100d0>"
      ]
     },
     "metadata": {},
     "output_type": "display_data"
    }
   ],
   "source": [
    "# Bin the competition distance with 10 bins\n",
    "bins = np.linspace(all_data['CompetitionDistance'].min(), all_data.CompetitionDistance.max(), 10)\n",
    "\n",
    "competition_bins = all_data[['Sales', 'Customers']].groupby(pd.cut(all_data['CompetitionDistance'], bins))\n",
    "competition_avg = competition_bins.mean()\n",
    "competition_avg.plot(kind='bar')"
   ]
  },
  {
   "cell_type": "markdown",
   "metadata": {},
   "source": [
    "Sundays have almost no sales.\n",
    "\n",
    "Sales peak in July and December, the peak of summer and Christmas season (The data is from Rossman stores, which are based in Germany so Christmas would be a major holiday.)"
   ]
  },
  {
   "cell_type": "code",
   "execution_count": 8,
   "metadata": {
    "collapsed": false,
    "scrolled": true
   },
   "outputs": [
    {
     "data": {
      "image/png": "[encoded data removed]",
      "text/plain": [
       "<matplotlib.figure.Figure at 0x7f906cbc11d0>"
      ]
     },
     "metadata": {},
     "output_type": "display_data"
    },
    {
     "data": {
      "image/png": "[encoded data removed]",
      "text/plain": [
       "<matplotlib.figure.Figure at 0x7f906cb00750>"
      ]
     },
     "metadata": {},
     "output_type": "display_data"
    }
   ],
   "source": [
    "#Done By Neal\n",
    "train['Date'] = pd.to_datetime(train['Date'])\n",
    "train[:5]['Date'].dt.dayofweek\n",
    "train['DayOfWeek'] = train['Date'].dt.dayofweek\n",
    "train['Month'] = train['Date'].dt.month\n",
    "train['Year'] = train['Date'].dt.year\n",
    "avg_month = train[['Sales', 'Month']].groupby('Month').mean()\n",
    "avg_month.plot(kind='bar')\n",
    "avg_day = train[['Sales', 'DayOfWeek']].groupby('DayOfWeek').mean()\n",
    "avg_day.plot(kind='bar')\n",
    "#sales by day of week\n",
    "sale_dayofweek = pd.pivot_table(train, values='Sales', index=['Year','Store'], columns=['DayOfWeek'])\n",
    "\n",
    "#sales by month\n",
    "sale_month = pd.pivot_table(train, values='Sales', index=['Year','Store'], columns=['Month'])\n",
    "#sale_dayofweek.plot(kind='box')\n",
    "#sale_month.plot(kind='box')"
   ]
  },
  {
   "cell_type": "markdown",
   "metadata": {
    "collapsed": true
   },
   "source": [
    "## Place in Data Science Model\n",
    "Our model will use a typical data science procedure for batch data analysis including a cleaning phase that feeds into a predictive regression model for sales prediction.\n",
    "\n",
    "## Next Steps\n",
    "The next steps mainly include deciding on a particular predictive mode, through both empirical testing and looking at what popular methods for time series regression are used in the field.\n",
    "\n",
    "Because our goal is to build a sales predictor, visualization of the results isn't a particular goal, though we plan to visualize and discuss major patterns in the data that our analysis finds, such as having a store with a promotion increasing sales by X or discussing the relation of stores to their competitors. We will also include a visualization of our predictor if relevant. \n",
    "\n",
    "\n",
    "# Final Product - The Predictor\n",
    "So for the model I just used a simple linear regression (ordinary least squares) because A) it's not a classification or clustering problem so the fancy things aren't really helpful and B) because it's super easy and the problem honestly looked like it would be captured well by a linear model. \n",
    "\n",
    "So here I drop columns that weren't helpful / difficult to clean and merge it with the store data. I also clean everything to be numbers and turn the categorical variables into dummy variables.\n",
    "\n",
    "The next cell takes ~1-2 minutes to run since it's doing element wise operations."
   ]
  },
  {
   "cell_type": "code",
   "execution_count": 9,
   "metadata": {
    "collapsed": false
   },
   "outputs": [],
   "source": [
    "string_cols = ['Date']\n",
    "drop_cols = ['Promo2', 'Promo2SinceWeek', 'Promo2SinceYear', 'PromoInterval']\n",
    "tw_pre = train.drop(string_cols, axis=1).applymap(lambda x: int(x)\n",
    "                            if str.isdigit(str(x))\n",
    "                            else np.nan)\n",
    "tw = pd.merge(tw_pre, store, on='Store', how='left')\n",
    "tw = tw.drop(drop_cols, axis=1)\n",
    "#tw['Date'] = train['Date']"
   ]
  },
  {
   "cell_type": "code",
   "execution_count": 10,
   "metadata": {
    "collapsed": false
   },
   "outputs": [
    {
     "data": {
      "text/html": [
       "<div style=\"max-height:1000px;max-width:1500px;overflow:auto;\">\n",
       "<table border=\"1\" class=\"dataframe\">\n",
       "  <thead>\n",
       "    <tr style=\"text-align: right;\">\n",
       "      <th></th>\n",
       "      <th>Store</th>\n",
       "      <th>DayOfWeek</th>\n",
       "      <th>Sales</th>\n",
       "      <th>Customers</th>\n",
       "      <th>Open</th>\n",
       "      <th>Promo</th>\n",
       "      <th>StateHoliday</th>\n",
       "      <th>SchoolHoliday</th>\n",
       "      <th>Month</th>\n",
       "      <th>Year</th>\n",
       "      <th>StoreType</th>\n",
       "      <th>Assortment</th>\n",
       "      <th>CompetitionDistance</th>\n",
       "      <th>CompetitionOpenSinceMonth</th>\n",
       "      <th>CompetitionOpenSinceYear</th>\n",
       "    </tr>\n",
       "  </thead>\n",
       "  <tbody>\n",
       "    <tr>\n",
       "      <th>0</th>\n",
       "      <td>1</td>\n",
       "      <td>4</td>\n",
       "      <td>5263</td>\n",
       "      <td>555</td>\n",
       "      <td>1</td>\n",
       "      <td>1</td>\n",
       "      <td>0</td>\n",
       "      <td>1</td>\n",
       "      <td>7</td>\n",
       "      <td>2015</td>\n",
       "      <td>c</td>\n",
       "      <td>a</td>\n",
       "      <td>1270</td>\n",
       "      <td>9</td>\n",
       "      <td>2008</td>\n",
       "    </tr>\n",
       "    <tr>\n",
       "      <th>1</th>\n",
       "      <td>2</td>\n",
       "      <td>4</td>\n",
       "      <td>6064</td>\n",
       "      <td>625</td>\n",
       "      <td>1</td>\n",
       "      <td>1</td>\n",
       "      <td>0</td>\n",
       "      <td>1</td>\n",
       "      <td>7</td>\n",
       "      <td>2015</td>\n",
       "      <td>a</td>\n",
       "      <td>a</td>\n",
       "      <td>570</td>\n",
       "      <td>11</td>\n",
       "      <td>2007</td>\n",
       "    </tr>\n",
       "    <tr>\n",
       "      <th>2</th>\n",
       "      <td>3</td>\n",
       "      <td>4</td>\n",
       "      <td>8314</td>\n",
       "      <td>821</td>\n",
       "      <td>1</td>\n",
       "      <td>1</td>\n",
       "      <td>0</td>\n",
       "      <td>1</td>\n",
       "      <td>7</td>\n",
       "      <td>2015</td>\n",
       "      <td>a</td>\n",
       "      <td>a</td>\n",
       "      <td>14130</td>\n",
       "      <td>12</td>\n",
       "      <td>2006</td>\n",
       "    </tr>\n",
       "    <tr>\n",
       "      <th>3</th>\n",
       "      <td>4</td>\n",
       "      <td>4</td>\n",
       "      <td>13995</td>\n",
       "      <td>1498</td>\n",
       "      <td>1</td>\n",
       "      <td>1</td>\n",
       "      <td>0</td>\n",
       "      <td>1</td>\n",
       "      <td>7</td>\n",
       "      <td>2015</td>\n",
       "      <td>c</td>\n",
       "      <td>c</td>\n",
       "      <td>620</td>\n",
       "      <td>9</td>\n",
       "      <td>2009</td>\n",
       "    </tr>\n",
       "    <tr>\n",
       "      <th>4</th>\n",
       "      <td>5</td>\n",
       "      <td>4</td>\n",
       "      <td>4822</td>\n",
       "      <td>559</td>\n",
       "      <td>1</td>\n",
       "      <td>1</td>\n",
       "      <td>0</td>\n",
       "      <td>1</td>\n",
       "      <td>7</td>\n",
       "      <td>2015</td>\n",
       "      <td>a</td>\n",
       "      <td>a</td>\n",
       "      <td>29910</td>\n",
       "      <td>4</td>\n",
       "      <td>2015</td>\n",
       "    </tr>\n",
       "  </tbody>\n",
       "</table>\n",
       "</div>"
      ],
      "text/plain": [
       "   Store  DayOfWeek  Sales  Customers  Open  Promo  StateHoliday  \\\n",
       "0      1          4   5263        555     1      1             0   \n",
       "1      2          4   6064        625     1      1             0   \n",
       "2      3          4   8314        821     1      1             0   \n",
       "3      4          4  13995       1498     1      1             0   \n",
       "4      5          4   4822        559     1      1             0   \n",
       "\n",
       "   SchoolHoliday  Month  Year StoreType Assortment  CompetitionDistance  \\\n",
       "0              1      7  2015         c          a                 1270   \n",
       "1              1      7  2015         a          a                  570   \n",
       "2              1      7  2015         a          a                14130   \n",
       "3              1      7  2015         c          c                  620   \n",
       "4              1      7  2015         a          a                29910   \n",
       "\n",
       "   CompetitionOpenSinceMonth  CompetitionOpenSinceYear  \n",
       "0                          9                      2008  \n",
       "1                         11                      2007  \n",
       "2                         12                      2006  \n",
       "3                          9                      2009  \n",
       "4                          4                      2015  "
      ]
     },
     "execution_count": 10,
     "metadata": {},
     "output_type": "execute_result"
    }
   ],
   "source": [
    "\n",
    "st_dummies = pd.get_dummies(tw.StoreType, prefix='store').iloc[:, 1:]\n",
    "assort_dummies = pd.get_dummies(tw.Assortment, prefix='assort').iloc[:, 1:]\n",
    "tw_F = pd.concat([tw, st_dummies, assort_dummies ], axis=1)\n",
    "\n",
    "tw.head()"
   ]
  },
  {
   "cell_type": "markdown",
   "metadata": {},
   "source": [
    "We only want to use those features in the training data that also exist in the test data, since we're just using a linear model."
   ]
  },
  {
   "cell_type": "code",
   "execution_count": 11,
   "metadata": {
    "collapsed": false
   },
   "outputs": [],
   "source": [
    "feature_cols = ['DayOfWeek', 'Open', 'Promo', 'StateHoliday', 'SchoolHoliday', \n",
    "                'CompetitionDistance', 'CompetitionOpenSinceMonth', 'CompetitionOpenSinceYear',\n",
    "                'store_b', 'store_c', 'store_d', 'assort_b', 'assort_c']\n",
    "\n",
    "all_test = pd.merge(test.drop(string_cols, axis=1).applymap(lambda x: int(x)\n",
    "                            if str.isdigit(str(x))\n",
    "                            else 0), store, on='Store', how='left')\n",
    "all_test = all_test.drop(drop_cols, axis=1)\n",
    "all_test = pd.concat([all_test, st_dummies, assort_dummies ], axis=1)\n"
   ]
  },
  {
   "cell_type": "markdown",
   "metadata": {},
   "source": [
    "Here I interpolate missing data in the set using Pandas built-in stuff (which does it using a linear model as well) because it looked like it worked well, and it's the easiest way to clean it up.\n",
    "\n",
    "Then we build a simple ordinary least squares regression model and fit the data to it! Runs pretty fast.\n",
    "\n",
    "The coefficients are simple coefficients for our model that looks more or less like\n",
    "$$Sales = x_1 \\cdot DayOfWeek + x_2 \\cdot Open + \\cdots + x_n \\cdot assort_c$$"
   ]
  },
  {
   "cell_type": "code",
   "execution_count": 12,
   "metadata": {
    "collapsed": false
   },
   "outputs": [
    {
     "name": "stdout",
     "output_type": "stream",
     "text": [
      "[('DayOfWeek', -115.40549422234382), ('Open', 5773.5998894642316), ('Promo', 2077.8644682123872), ('StateHoliday', 1.4702938265765719e-12), ('SchoolHoliday', 64.892674989404995), ('CompetitionDistance', -0.013191911933166035), ('CompetitionOpenSinceMonth', -18.011177289364802), ('CompetitionOpenSinceYear', 2.1290352834617328), ('store_b', 5223.9145880647429), ('store_c', -94.351286575149203), ('store_d', -245.26100339374534), ('assort_b', -3128.6809364533688), ('assort_c', 700.21287024484195)]\n"
     ]
    }
   ],
   "source": [
    "from sklearn.linear_model import LinearRegression\n",
    "\n",
    "X = tw_F[feature_cols].interpolate()\n",
    "tstX = all_test[feature_cols].interpolate()\n",
    "y = tw_F.Sales.interpolate()\n",
    "\n",
    "# instantiate, fit\n",
    "lm = LinearRegression()\n",
    "lm.fit(X, y)\n",
    "\n",
    "# print coefficients\n",
    "print zip(feature_cols, lm.coef_)\n"
   ]
  },
  {
   "cell_type": "markdown",
   "metadata": {},
   "source": [
    "So here we're predicting! \n",
    "$r$ is the error of the predictions for a given datum.\n",
    "$y_{pred}$ is the predicted value.\n",
    "$y$ is the ground truth.\n",
    "$mean_{sq}$ is the mean-squared-error of the predictions.\n",
    "\n",
    "We can run the results on the test data, but we have no way to test how good our predictions and thus no way to check error.\n",
    "\n",
    "For visualizations if you run the tstX line then plot that data \"appended\" to the training data we can probably visually see how well our predictions were. I know they're not great, but at least it does something :).\n",
    "\n",
    "Cheers! - Eric \n"
   ]
  },
  {
   "cell_type": "code",
   "execution_count": 22,
   "metadata": {
    "collapsed": false
   },
   "outputs": [
    {
     "name": "stdout",
     "output_type": "stream",
     "text": [
      "[(5263, 7611.554166074935, -2348.554166074935), (6064, 7676.9884011411104, -1612.9884011411104), (8314, 7477.9658627545523, 836.03413724544771), (13995, 8322.4708143597982, 5672.5291856402018), (4822, 7433.0482283152651, -2611.0482283152651), (5651, 7675.1813326551401, -2024.1813326551401), (15344, 8206.9672275181965, 7137.0327724818035), (8492, 7618.2190374792026, 873.7809625207974), (8565, 8397.071364847392, 167.92863515260797), (7185, 7683.1017743798639, -498.10177437986385)]\n",
      "8.37286239992e+12\n"
     ]
    }
   ],
   "source": [
    "y_pred = lm.predict(X)\n",
    "#y_pred = lm.predict(tstX)\n",
    "y_mean = np.mean(y)\n",
    "r =  y - y_pred\n",
    "mean_sq = sum(map(lambda x: (y_mean - x) ** 2, y_pred))\n",
    "print zip(y, y_pred, r)[:10]\n",
    "print mean_sq"
   ]
  },
  {
   "cell_type": "code",
   "execution_count": 25,
   "metadata": {
    "collapsed": false
   },
   "outputs": [
    {
     "data": {
      "text/plain": [
       "[<matplotlib.lines.Line2D at 0x7f90397ebcd0>]"
      ]
     },
     "execution_count": 25,
     "metadata": {},
     "output_type": "execute_result"
    },
    {
     "data": {
      "image/png": "[encoded data removed]",
      "text/plain": [
       "<matplotlib.figure.Figure at 0x7f906aca9850>"
      ]
     },
     "metadata": {},
     "output_type": "display_data"
    }
   ],
   "source": [
    "whole_set = pd.DataFrame([pd.Series(np.append(train['Sales'], y_pred)), train['Date']\n",
    "plt.plot(whole_set)"
   ]
  },
  {
   "cell_type": "markdown",
   "metadata": {},
   "source": [
    "Proceed at your own risk to this bottom portion. I started building a neural network to work on the data but it's just too big for my computer honestly. We can talk about that in the slides though! Feel free to play around; it's only working with the first ~10,000 values right now so that it's trainable in a reasonable amount of time. Doesn't work well though of course. \n"
   ]
  },
  {
   "cell_type": "code",
   "execution_count": 14,
   "metadata": {
    "collapsed": false
   },
   "outputs": [],
   "source": [
    "from pybrain.structure.modules import SoftmaxLayer, LinearLayer\n",
    "from pybrain.utilities import percentError\n",
    "from pybrain.tools.shortcuts import buildNetwork\n",
    "from pybrain.datasets import SupervisedDataSet\n",
    "from pybrain.supervised.trainers import BackpropTrainer\n",
    "#ds = SupervisedDataSet( len(X.columns), 1 )\n",
    "#for i, item in X.iterrows():\n",
    "#    if i > 10000:\n",
    "#        break\n",
    "#    ds.appendLinked( item, y[i])"
   ]
  },
  {
   "cell_type": "code",
   "execution_count": 15,
   "metadata": {
    "collapsed": false
   },
   "outputs": [],
   "source": [
    "#tstdata, trndata = ds.splitWithProportion( 0 )\n",
    "#print len(ds.getField('target'))"
   ]
  },
  {
   "cell_type": "code",
   "execution_count": 16,
   "metadata": {
    "collapsed": false
   },
   "outputs": [],
   "source": [
    "#print \"Number of training patterns: \", len(trndata)\n",
    "#print \"Number of testing patterns: \", len(tstdata)\n",
    "#print \"Input and output dimensions: \", trndata.indim, trndata.outdim\n",
    "#print \"First sample (input, target, class):\"\n",
    "#print trndata['input'][0], trndata['target'][0]\n",
    "#print trndata['input'][-1], trndata['target'][-1]"
   ]
  },
  {
   "cell_type": "code",
   "execution_count": 17,
   "metadata": {
    "collapsed": false
   },
   "outputs": [],
   "source": [
    "#fnn = buildNetwork( trndata.indim, 1, trndata.outdim, outclass=LinearLayer)\n",
    "#trainer = BackpropTrainer( fnn, dataset=trndata, verbose=True)#,  learningrate=0.001)# momentum=0.05, weightdecay=0.005) "
   ]
  },
  {
   "cell_type": "code",
   "execution_count": 18,
   "metadata": {
    "collapsed": false
   },
   "outputs": [],
   "source": [
    "#trainer.train()"
   ]
  },
  {
   "cell_type": "code",
   "execution_count": 19,
   "metadata": {
    "collapsed": false
   },
   "outputs": [],
   "source": [
    "#for i in range(15):\n",
    "#    trainer.trainEpochs( 10 )\n",
    "#    #trainer.trainUntilConvergence(maxEpochs=30)\n",
    "#    print \n",
    "#    test1 = fnn.activate(trndata['input'][0])\n",
    "#    test2 = fnn.activate(trndata['input'][-1])\n",
    "#    print test1, test2"
   ]
  },
  {
   "cell_type": "code",
   "execution_count": null,
   "metadata": {
    "collapsed": true
   },
   "outputs": [],
   "source": []
  }
 ],
 "metadata": {
  "kernelspec": {
   "display_name": "Python 2",
   "language": "python",
   "name": "python2"
  },
  "language_info": {
   "codemirror_mode": {
    "name": "ipython",
    "version": 2
   },
   "file_extension": ".py",
   "mimetype": "text/x-python",
   "name": "python",
   "nbconvert_exporter": "python",
   "pygments_lexer": "ipython2",
   "version": "2.7.6"
  }
 },
 "nbformat": 4,
 "nbformat_minor": 0
}
