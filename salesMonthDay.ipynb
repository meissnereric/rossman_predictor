{
 "cells": [
  {
   "cell_type": "code",
   "execution_count": 9,
   "metadata": {
    "collapsed": false
   },
   "outputs": [],
   "source": [
    "import numpy as np\n",
    "import pandas as pd\n",
    "import matplotlib.pyplot as plt\n",
    "%matplotlib inline"
   ]
  },
  {
   "cell_type": "code",
   "execution_count": 2,
   "metadata": {
    "collapsed": false
   },
   "outputs": [
    {
     "name": "stdout",
     "output_type": "stream",
     "text": [
      "   Store  DayOfWeek        Date  Sales  Customers  Open  Promo StateHoliday  \\\n",
      "0      1          5  2015-07-31   5263        555     1      1            0   \n",
      "1      2          5  2015-07-31   6064        625     1      1            0   \n",
      "2      3          5  2015-07-31   8314        821     1      1            0   \n",
      "3      4          5  2015-07-31  13995       1498     1      1            0   \n",
      "4      5          5  2015-07-31   4822        559     1      1            0   \n",
      "\n",
      "   SchoolHoliday  \n",
      "0              1  \n",
      "1              1  \n",
      "2              1  \n",
      "3              1  \n",
      "4              1  \n"
     ]
    },
    {
     "name": "stderr",
     "output_type": "stream",
     "text": [
      "F:\\py34\\Anaconda3\\lib\\site-packages\\pandas\\io\\parsers.py:1170: DtypeWarning: Columns (7) have mixed types. Specify dtype option on import or set low_memory=False.\n",
      "  data = self._reader.read(nrows)\n"
     ]
    }
   ],
   "source": [
    "train = pd.read_csv('data/train.csv')\n",
    "print(train[:5])"
   ]
  },
  {
   "cell_type": "code",
   "execution_count": 3,
   "metadata": {
    "collapsed": false
   },
   "outputs": [
    {
     "data": {
      "text/plain": [
       "0    4\n",
       "1    4\n",
       "2    4\n",
       "3    4\n",
       "4    4\n",
       "dtype: int64"
      ]
     },
     "execution_count": 3,
     "metadata": {},
     "output_type": "execute_result"
    }
   ],
   "source": [
    "train['Date'] = pd.to_datetime(train['Date'])\n",
    "train[:5]['Date'].dt.dayofweek"
   ]
  },
  {
   "cell_type": "code",
   "execution_count": 13,
   "metadata": {
    "collapsed": false,
    "scrolled": true
   },
   "outputs": [
    {
     "data": {
      "text/plain": [
       "<matplotlib.axes._subplots.AxesSubplot at 0x243f3dd8>"
      ]
     },
     "execution_count": 13,
     "metadata": {},
     "output_type": "execute_result"
    },
    {
     "data": {
      "image/png": "[encoded data removed]",
      "text/plain": [
       "<matplotlib.figure.Figure at 0x243d7be0>"
      ]
     },
     "metadata": {},
     "output_type": "display_data"
    },
    {
     "data": {
      "image/png": "[encoded data removed]",
      "text/plain": [
       "<matplotlib.figure.Figure at 0x5e9de10>"
      ]
     },
     "metadata": {},
     "output_type": "display_data"
    }
   ],
   "source": [
    "train['DayOfWeek'] = train['Date'].dt.dayofweek\n",
    "train['Month'] = train['Date'].dt.month\n",
    "train['Year'] = train['Date'].dt.year\n",
    "avg_month = train[['Sales', 'Month']].groupby('Month').mean()\n",
    "avg_month.plot(kind='bar')\n",
    "avg_day = train[['Sales', 'DayOfWeek']].groupby('DayOfWeek').mean()\n",
    "avg_day.plot(kind='bar')"
   ]
  },
  {
   "cell_type": "code",
   "execution_count": 17,
   "metadata": {
    "collapsed": false,
    "scrolled": false
   },
   "outputs": [
    {
     "data": {
      "text/html": [
       "<div>\n",
       "<table border=\"1\" class=\"dataframe\">\n",
       "  <thead>\n",
       "    <tr style=\"text-align: right;\">\n",
       "      <th></th>\n",
       "      <th>Month</th>\n",
       "      <th>1</th>\n",
       "      <th>2</th>\n",
       "      <th>3</th>\n",
       "      <th>4</th>\n",
       "      <th>5</th>\n",
       "      <th>6</th>\n",
       "      <th>7</th>\n",
       "      <th>8</th>\n",
       "      <th>9</th>\n",
       "      <th>10</th>\n",
       "      <th>11</th>\n",
       "      <th>12</th>\n",
       "    </tr>\n",
       "    <tr>\n",
       "      <th>Year</th>\n",
       "      <th>Store</th>\n",
       "      <th></th>\n",
       "      <th></th>\n",
       "      <th></th>\n",
       "      <th></th>\n",
       "      <th></th>\n",
       "      <th></th>\n",
       "      <th></th>\n",
       "      <th></th>\n",
       "      <th></th>\n",
       "      <th></th>\n",
       "      <th></th>\n",
       "      <th></th>\n",
       "    </tr>\n",
       "  </thead>\n",
       "  <tbody>\n",
       "    <tr>\n",
       "      <th rowspan=\"5\" valign=\"top\">2013</th>\n",
       "      <th>1</th>\n",
       "      <td>4142.935484</td>\n",
       "      <td>4473.964286</td>\n",
       "      <td>4682.870968</td>\n",
       "      <td>3933.633333</td>\n",
       "      <td>3813.709677</td>\n",
       "      <td>3780.366667</td>\n",
       "      <td>4130.064516</td>\n",
       "      <td>3816.774194</td>\n",
       "      <td>3628.900000</td>\n",
       "      <td>3698.096774</td>\n",
       "      <td>4253.200000</td>\n",
       "      <td>4682.838710</td>\n",
       "    </tr>\n",
       "    <tr>\n",
       "      <th>2</th>\n",
       "      <td>3715.193548</td>\n",
       "      <td>3968.357143</td>\n",
       "      <td>4210.483871</td>\n",
       "      <td>3895.933333</td>\n",
       "      <td>3754.161290</td>\n",
       "      <td>3862.366667</td>\n",
       "      <td>4476.709677</td>\n",
       "      <td>4037.516129</td>\n",
       "      <td>3969.366667</td>\n",
       "      <td>3882.645161</td>\n",
       "      <td>4287.600000</td>\n",
       "      <td>4845.612903</td>\n",
       "    </tr>\n",
       "    <tr>\n",
       "      <th>3</th>\n",
       "      <td>5343.645161</td>\n",
       "      <td>5720.250000</td>\n",
       "      <td>6102.548387</td>\n",
       "      <td>5739.600000</td>\n",
       "      <td>5495.935484</td>\n",
       "      <td>5682.066667</td>\n",
       "      <td>6658.903226</td>\n",
       "      <td>5751.677419</td>\n",
       "      <td>5443.000000</td>\n",
       "      <td>5428.290323</td>\n",
       "      <td>5652.666667</td>\n",
       "      <td>6915.064516</td>\n",
       "    </tr>\n",
       "    <tr>\n",
       "      <th>4</th>\n",
       "      <td>7571.387097</td>\n",
       "      <td>8231.178571</td>\n",
       "      <td>8242.387097</td>\n",
       "      <td>7566.033333</td>\n",
       "      <td>7589.806452</td>\n",
       "      <td>7840.900000</td>\n",
       "      <td>7357.935484</td>\n",
       "      <td>7685.903226</td>\n",
       "      <td>7318.333333</td>\n",
       "      <td>7254.935484</td>\n",
       "      <td>7964.600000</td>\n",
       "      <td>9184.677419</td>\n",
       "    </tr>\n",
       "    <tr>\n",
       "      <th>5</th>\n",
       "      <td>3530.387097</td>\n",
       "      <td>3611.642857</td>\n",
       "      <td>3769.677419</td>\n",
       "      <td>3538.033333</td>\n",
       "      <td>3557.806452</td>\n",
       "      <td>3509.333333</td>\n",
       "      <td>4899.741935</td>\n",
       "      <td>4063.516129</td>\n",
       "      <td>3677.933333</td>\n",
       "      <td>3735.645161</td>\n",
       "      <td>3985.566667</td>\n",
       "      <td>4758.580645</td>\n",
       "    </tr>\n",
       "  </tbody>\n",
       "</table>\n",
       "</div>"
      ],
      "text/plain": [
       "Month                1            2            3            4            5   \\\n",
       "Year Store                                                                    \n",
       "2013 1      4142.935484  4473.964286  4682.870968  3933.633333  3813.709677   \n",
       "     2      3715.193548  3968.357143  4210.483871  3895.933333  3754.161290   \n",
       "     3      5343.645161  5720.250000  6102.548387  5739.600000  5495.935484   \n",
       "     4      7571.387097  8231.178571  8242.387097  7566.033333  7589.806452   \n",
       "     5      3530.387097  3611.642857  3769.677419  3538.033333  3557.806452   \n",
       "\n",
       "Month                6            7            8            9            10  \\\n",
       "Year Store                                                                    \n",
       "2013 1      3780.366667  4130.064516  3816.774194  3628.900000  3698.096774   \n",
       "     2      3862.366667  4476.709677  4037.516129  3969.366667  3882.645161   \n",
       "     3      5682.066667  6658.903226  5751.677419  5443.000000  5428.290323   \n",
       "     4      7840.900000  7357.935484  7685.903226  7318.333333  7254.935484   \n",
       "     5      3509.333333  4899.741935  4063.516129  3677.933333  3735.645161   \n",
       "\n",
       "Month                11           12  \n",
       "Year Store                            \n",
       "2013 1      4253.200000  4682.838710  \n",
       "     2      4287.600000  4845.612903  \n",
       "     3      5652.666667  6915.064516  \n",
       "     4      7964.600000  9184.677419  \n",
       "     5      3985.566667  4758.580645  "
      ]
     },
     "execution_count": 17,
     "metadata": {},
     "output_type": "execute_result"
    }
   ],
   "source": [
    "#group_dayofweek = train.groupby('DayOfWeek')\n",
    "#sales by day of week\n",
    "sale_dayofweek = pd.pivot_table(train, values='Sales', index=['Year','Store'], columns=['DayOfWeek'])\n",
    "#sales by month\n",
    "sale_month = pd.pivot_table(train, values='Sales', index=['Year','Store'], columns=['Month'])\n",
    "sale_month[:5]\n"
   ]
  },
  {
   "cell_type": "code",
   "execution_count": 18,
   "metadata": {
    "collapsed": false
   },
   "outputs": [
    {
     "data": {
      "text/plain": [
       "<matplotlib.axes._subplots.AxesSubplot at 0x22204be0>"
      ]
     },
     "execution_count": 18,
     "metadata": {},
     "output_type": "execute_result"
    },
    {
     "data": {
      "image/png": "[encoded data removed]",
      "text/plain": [
       "<matplotlib.figure.Figure at 0x26c582e8>"
      ]
     },
     "metadata": {},
     "output_type": "display_data"
    },
    {
     "data": {
      "image/png": "[encoded data removed]",
      "text/plain": [
       "<matplotlib.figure.Figure at 0x26c58390>"
      ]
     },
     "metadata": {},
     "output_type": "display_data"
    }
   ],
   "source": [
    "sale_dayofweek.plot(kind='box')\n",
    "sale_month.plot(kind='box')"
   ]
  },
  {
   "cell_type": "code",
   "execution_count": null,
   "metadata": {
    "collapsed": true
   },
   "outputs": [],
   "source": []
  }
 ],
 "metadata": {
  "kernelspec": {
   "display_name": "Python 3",
   "language": "python",
   "name": "python3"
  },
  "language_info": {
   "codemirror_mode": {
    "name": "ipython",
    "version": 3
   },
   "file_extension": ".py",
   "mimetype": "text/x-python",
   "name": "python",
   "nbconvert_exporter": "python",
   "pygments_lexer": "ipython3",
   "version": "3.4.3"
  }
 },
 "nbformat": 4,
 "nbformat_minor": 0
}
