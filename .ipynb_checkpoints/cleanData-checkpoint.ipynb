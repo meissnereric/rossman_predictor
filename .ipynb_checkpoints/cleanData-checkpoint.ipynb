{
 "cells": [
  {
   "cell_type": "code",
   "execution_count": 13,
   "metadata": {
    "collapsed": false
   },
   "outputs": [
    {
     "data": {
      "text/plain": [
       "u'/home/eric/dev/projects/data_science/rossman_predictor'"
      ]
     },
     "execution_count": 13,
     "metadata": {},
     "output_type": "execute_result"
    }
   ],
   "source": [
    "import numpy as np\n",
    "import pandas as pd\n",
    "import matplotlib.pyplot as plt\n",
    "%matplotlib inline\n",
    "%pwd"
   ]
  },
  {
   "cell_type": "code",
   "execution_count": 9,
   "metadata": {
    "collapsed": false
   },
   "outputs": [
    {
     "name": "stdout",
     "output_type": "stream",
     "text": [
      "   Store  DayOfWeek        Date  Sales  Customers  Open  Promo StateHoliday  \\\n",
      "0      1          5  2015-07-31   5263        555     1      1            0   \n",
      "1      2          5  2015-07-31   6064        625     1      1            0   \n",
      "2      3          5  2015-07-31   8314        821     1      1            0   \n",
      "3      4          5  2015-07-31  13995       1498     1      1            0   \n",
      "4      5          5  2015-07-31   4822        559     1      1            0   \n",
      "\n",
      "   SchoolHoliday  \n",
      "0              1  \n",
      "1              1  \n",
      "2              1  \n",
      "3              1  \n",
      "4              1  \n",
      "   Store StoreType Assortment  CompetitionDistance  CompetitionOpenSinceMonth  \\\n",
      "0      1         c          a                 1270                          9   \n",
      "1      2         a          a                  570                         11   \n",
      "2      3         a          a                14130                         12   \n",
      "3      4         c          c                  620                          9   \n",
      "4      5         a          a                29910                          4   \n",
      "\n",
      "   CompetitionOpenSinceYear  Promo2  Promo2SinceWeek  Promo2SinceYear  \\\n",
      "0                      2008       0              NaN              NaN   \n",
      "1                      2007       1               13             2010   \n",
      "2                      2006       1               14             2011   \n",
      "3                      2009       0              NaN              NaN   \n",
      "4                      2015       0              NaN              NaN   \n",
      "\n",
      "     PromoInterval  \n",
      "0              NaN  \n",
      "1  Jan,Apr,Jul,Oct  \n",
      "2  Jan,Apr,Jul,Oct  \n",
      "3              NaN  \n",
      "4              NaN  \n"
     ]
    },
    {
     "name": "stderr",
     "output_type": "stream",
     "text": [
      "/usr/local/lib/python2.7/dist-packages/pandas/io/parsers.py:1164: DtypeWarning: Columns (7) have mixed types. Specify dtype option on import or set low_memory=False.\n",
      "  data = self._reader.read(nrows)\n"
     ]
    }
   ],
   "source": [
    "#Partial code taken from (https://www.kaggle.com/mmourafiq/rossmann-store-sales/data-viz/notebook): \n",
    "\n",
    "train = pd.read_csv('data/train.csv')\n",
    "#train = DataSet(train_data, target_column='y', id_column='id')\n",
    "print(train[:5])\n",
    "store = pd.read_csv('data/store.csv')\n",
    "print(store[:5])\n",
    "all_data = pd.merge(train, store, on='Store', how='left')\n",
    "test = pd.read_csv('data/test.csv')\n",
    "all_data['StateHoliday'][all_data['StateHoliday'] == 0 ] = '0'\n"
   ]
  },
  {
   "cell_type": "code",
   "execution_count": 14,
   "metadata": {
    "collapsed": false
   },
   "outputs": [
    {
     "name": "stdout",
     "output_type": "stream",
     "text": [
      "number of stores: 1017209\n",
      "              Store       Sales  Customers    Open  Promo  SchoolHoliday\n",
      "DayOfWeek                                                               \n",
      "1          80821168  1130203012  117675012  137560  77760          34060\n",
      "2          81344288  1020411930  110848063  143961  77580          36595\n",
      "3          81345276   954962863  105117642  141936  77580          34636\n",
      "4          81443338   911177709  101732938  134644  77580          34747\n",
      "5          81443338   980555941  108384820  138640  77580          36235\n",
      "6          80821168   846317735   95103854  144058      0           2724\n",
      "7          80821168    29551433    5179426    3593      0           2724\n",
      "                     Sales                            Customers               \\\n",
      "                       sum         mean          std        sum         mean   \n",
      "DayOfWeek Open                                                                 \n",
      "1         0              0     0.000000     0.000000          0     0.000000   \n",
      "          1     1130203012  8216.073074  3691.768817  117675012   855.444984   \n",
      "2         0              0     0.000000     0.000000          0     0.000000   \n",
      "          1     1020411930  7088.113656  3066.237108  110848063   769.986753   \n",
      "3         0              0     0.000000     0.000000          0     0.000000   \n",
      "          1      954962863  6728.122978  2781.775153  105117642   740.598876   \n",
      "4         0              0     0.000000     0.000000          0     0.000000   \n",
      "          1      911177709  6767.310159  2764.548064  101732938   755.569784   \n",
      "5         0              0     0.000000     0.000000          0     0.000000   \n",
      "          1      980555941  7072.677012  2764.915731  108384820   781.771639   \n",
      "6         0              0     0.000000     0.000000          0     0.000000   \n",
      "          1      846317735  5874.840238  2852.730271   95103854   660.177526   \n",
      "7         0              0     0.000000     0.000000          0     0.000000   \n",
      "          1       29551433  8224.723908  6235.152925    5179426  1441.532424   \n",
      "\n",
      "                             \n",
      "                        std  \n",
      "DayOfWeek Open               \n",
      "1         0        0.000000  \n",
      "          1      420.044045  \n",
      "2         0        0.000000  \n",
      "          1      389.826885  \n",
      "3         0        0.000000  \n",
      "          1      372.526509  \n",
      "4         0        0.000000  \n",
      "          1      379.039576  \n",
      "5         0        0.000000  \n",
      "          1      383.003916  \n",
      "6         0        0.000000  \n",
      "          1      386.119153  \n",
      "7         0        0.000000  \n",
      "          1     1112.072839  \n"
     ]
    }
   ],
   "source": [
    "# a couple of statistics\n",
    "print('number of stores: {}'.format(train.Store.size))\n",
    "\n",
    "# count open stores by week day\n",
    "print(train.groupby(['DayOfWeek']).sum())\n",
    "print(all_data[['DayOfWeek', 'Open', 'Sales', 'Customers']].groupby(['DayOfWeek', 'Open']).agg([np.sum, np.mean, np.std]))"
   ]
  },
  {
   "cell_type": "code",
   "execution_count": 15,
   "metadata": {
    "collapsed": false
   },
   "outputs": [
    {
     "data": {
      "text/plain": [
       "<matplotlib.axes._subplots.AxesSubplot at 0x7fc55f5d7bd0>"
      ]
     },
     "execution_count": 15,
     "metadata": {},
     "output_type": "execute_result"
    },
    {
     "data": {
      "image/png": "[encoded data removed]",
      "text/plain": [
       "<matplotlib.figure.Figure at 0x7fc558203fd0>"
      ]
     },
     "metadata": {},
     "output_type": "display_data"
    }
   ],
   "source": [
    "avg_stateholiday = all_data[['Sales', 'Customers', 'StateHoliday']].groupby('StateHoliday').mean()\n",
    "avg_stateholiday.plot(kind='bar')"
   ]
  },
  {
   "cell_type": "code",
   "execution_count": 16,
   "metadata": {
    "collapsed": false
   },
   "outputs": [
    {
     "data": {
      "text/plain": [
       "<matplotlib.axes._subplots.AxesSubplot at 0x7fc558049250>"
      ]
     },
     "execution_count": 16,
     "metadata": {},
     "output_type": "execute_result"
    },
    {
     "data": {
      "image/png": "[encoded data removed]",
      "text/plain": [
       "<matplotlib.figure.Figure at 0x7fc5581056d0>"
      ]
     },
     "metadata": {},
     "output_type": "display_data"
    }
   ],
   "source": [
    "avg_promotion = all_data[['Sales', 'Customers', 'Promo']].groupby('Promo').mean()\n",
    "avg_promotion.plot(kind='bar')"
   ]
  },
  {
   "cell_type": "code",
   "execution_count": null,
   "metadata": {
    "collapsed": true
   },
   "outputs": [],
   "source": [
    "all_data[['CompetitionDistance', 'Sales']].plot(kind='scatter', x='CompetitionDistance', y='Sales')\n"
   ]
  },
  {
   "cell_type": "code",
   "execution_count": null,
   "metadata": {
    "collapsed": true
   },
   "outputs": [],
   "source": [
    "all_data.hist('CompetitionDistance')\n"
   ]
  },
  {
   "cell_type": "code",
   "execution_count": null,
   "metadata": {
    "collapsed": true
   },
   "outputs": [],
   "source": [
    "# Bin the competition distance with 10 bins...\n",
    "bins = np.linspace(all_data['CompetitionDistance'].min(), all_data.CompetitionDistance.max(), 10)\n",
    "\n",
    "competition_bins = all_data[['Sales', 'Customers']].groupby(np.digitize(all_data['CompetitionDistance'], bins))\n",
    "competition_avg = competition_bins.mean()\n",
    "competition_avg.plot(kind='bar')"
   ]
  },
  {
   "cell_type": "code",
   "execution_count": null,
   "metadata": {
    "collapsed": true
   },
   "outputs": [],
   "source": []
  }
 ],
 "metadata": {
  "kernelspec": {
   "display_name": "Python 2",
   "language": "python",
   "name": "python2"
  },
  "language_info": {
   "codemirror_mode": {
    "name": "ipython",
    "version": 2
   },
   "file_extension": ".py",
   "mimetype": "text/x-python",
   "name": "python",
   "nbconvert_exporter": "python",
   "pygments_lexer": "ipython2",
   "version": "2.7.6"
  }
 },
 "nbformat": 4,
 "nbformat_minor": 0
}
